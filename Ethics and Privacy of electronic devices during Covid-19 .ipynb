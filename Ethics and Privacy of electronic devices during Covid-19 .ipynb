{
 "cells": [
  {
   "cell_type": "markdown",
   "metadata": {},
   "source": [
    "## Ethical and privacy issues\n",
    "\n",
    "During the Coronavirus pandemic, many countries are investigating the electronic collection of contact data as a means of identifying close contacts of people who are diagnosed with Covid-19.   One possibility is an app on a smartphone which broadcasts an identifier which other devices record when in close proximity.  If a person is identified as a case, then the data from their app is used to identify the personal devices to which they have been close in the previous weeks.  \n",
    "\n",
    "This is a short discussion, of about 250-300 words, about the issues of **privacy**, **security** and **confidentiality**.\n",
    "\n",
    "One key issue of privacy upon using this app is data linkage. In this case it is identifying people with \n",
    "identifiers and pairing identifiers in close proximity to create new information and data/datasets. Data linkage has positive benefits such as reducing response burden and acquiring more information on individuals seperately, although in doing so a privacy issues/challenges would arise such as the interpreting of newly created dataset wrongly due to incomplete information, linking two identifiers together without sufficient enough evidence can result in a bad dataset and could cause persay a person wrongly targetted for being diagnosed with covid-19.\n",
    "Another key issue of privacy on this app would be gps tracking. It seems you need your location to always be on when using this app in order for the app to record when in close proximity, but this would be clearly invasive as the app is always tracking your whereabouts, leading to loss of privacy. Also your phone and ip address can be tracked alongside.\n",
    "\n",
    "A key issue on security is consent and disclosing of the data when the app company obtains the record data. No information or consent has been asked, as to where the data is being stored or what all the data is going to be used for. The company should disclose the collection, transmission and storage of data. You could argue it is a benefit for companies for research purposes and that the data is being used as soon as you open the app, though this poses as a risk still as they haven't explained yet where they are storing the data.   \n",
    "\n",
    "A key issue on confidentiality is the misuse of the individuals identifier information. On the app you will broadcast an identifier, so people will see you as just a number or id to create anonymity. Although the app company has not explained what the employee will see and do to your information beneath the identifier. The employees or members of the company have access to all the information you give, they have not provided evidence of people who can see all your information behind the company itself."
   ]
  },
  {
   "cell_type": "code",
   "execution_count": null,
   "metadata": {},
   "outputs": [],
   "source": []
  }
 ],
 "metadata": {
  "kernelspec": {
   "display_name": "Python 3",
   "language": "python",
   "name": "python3"
  },
  "language_info": {
   "codemirror_mode": {
    "name": "ipython",
    "version": 3
   },
   "file_extension": ".py",
   "mimetype": "text/x-python",
   "name": "python",
   "nbconvert_exporter": "python",
   "pygments_lexer": "ipython3",
   "version": "3.8.3"
  }
 },
 "nbformat": 4,
 "nbformat_minor": 4
}
